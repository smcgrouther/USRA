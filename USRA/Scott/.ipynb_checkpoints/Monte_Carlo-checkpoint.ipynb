{
 "cells": [
  {
   "cell_type": "code",
   "execution_count": 19,
   "id": "e23ab60a-40dc-4a53-817c-b5e27250447c",
   "metadata": {},
   "outputs": [],
   "source": [
    "#IMPORTING\n",
    "\n",
    "source(\"Gaussian.r\")\n",
    "source(\"Gamma.r\")\n",
    "source(\"Beta.r\")\n",
    "source(\"Loss.r\")\n"
   ]
  },
  {
   "cell_type": "code",
   "execution_count": 2,
   "id": "3c82d780-29f2-4dd2-991b-4f2e4233b3c8",
   "metadata": {
    "editable": true,
    "slideshow": {
     "slide_type": ""
    },
    "tags": []
   },
   "outputs": [
    {
     "name": "stdout",
     "output_type": "stream",
     "text": [
      "[1] \"-------------------------------------------------------------\"\n"
     ]
    },
    {
     "data": {
      "text/html": [
       "<span style=white-space:pre-wrap>'Average Loss Normal:  $ 9.9549'</span>"
      ],
      "text/latex": [
       "'Average Loss Normal:  \\$ 9.9549'"
      ],
      "text/markdown": [
       "<span style=white-space:pre-wrap>'Average Loss Normal:  $ 9.9549'</span>"
      ],
      "text/plain": [
       "[1] \"Average Loss Normal:  $ 9.9549\""
      ]
     },
     "metadata": {},
     "output_type": "display_data"
    },
    {
     "data": {
      "text/html": [
       "<span style=white-space:pre-wrap>'Average Loss Distorted_Gaussian:  $ 11.4956'</span>"
      ],
      "text/latex": [
       "'Average Loss Distorted\\_Gaussian:  \\$ 11.4956'"
      ],
      "text/markdown": [
       "<span style=white-space:pre-wrap>'Average Loss Distorted_Gaussian:  $ 11.4956'</span>"
      ],
      "text/plain": [
       "[1] \"Average Loss Distorted_Gaussian:  $ 11.4956\""
      ]
     },
     "metadata": {},
     "output_type": "display_data"
    },
    {
     "data": {
      "text/html": [
       "<span style=white-space:pre-wrap>'Average Loss Distorted_Beta:  $ 11.8549'</span>"
      ],
      "text/latex": [
       "'Average Loss Distorted\\_Beta:  \\$ 11.8549'"
      ],
      "text/markdown": [
       "<span style=white-space:pre-wrap>'Average Loss Distorted_Beta:  $ 11.8549'</span>"
      ],
      "text/plain": [
       "[1] \"Average Loss Distorted_Beta:  $ 11.8549\""
      ]
     },
     "metadata": {},
     "output_type": "display_data"
    },
    {
     "name": "stdout",
     "output_type": "stream",
     "text": [
      "[1] \"-------------------------------------------------------------\"\n",
      "[1] \"Normal VAR AT  95 %:   50\"\n",
      "[1] \"Normal ES AT  95 %:   88.6442711457708\"\n",
      "[1] \"-------------------------------------------------------------\"\n",
      "[1] \"Distorted Gaussian VAR AT  95 %:   50\"\n",
      "[1] \"Distorted Gaussian ES AT  95 %:   98.9122175564887\"\n",
      "[1] \"-------------------------------------------------------------\"\n",
      "[1] \"Distorted Beta VAR AT  95 %:   60\"\n",
      "[1] \"Distorted Beta ES AT  95 %:   101.129774045191\"\n",
      "[1] \"-------------------------------------------------------------\"\n",
      "[1] \"Normal VAR AT  97 %:   70\"\n",
      "[1] \"Normal ES AT  97 %:   110.663112295901\"\n",
      "[1] \"-------------------------------------------------------------\"\n",
      "[1] \"Distorted Gaussian VAR AT  97 %:   70\"\n",
      "[1] \"Distorted Gaussian ES AT  97 %:   122.322559146951\"\n",
      "[1] \"-------------------------------------------------------------\"\n",
      "[1] \"Distorted Beta VAR AT  97 %:   80\"\n",
      "[1] \"Distorted Beta ES AT  97 %:   125.124958347218\"\n",
      "[1] \"-------------------------------------------------------------\"\n",
      "[1] \"Normal VAR AT  99 %:   110\"\n",
      "[1] \"Normal ES AT  99 %:   163.446553446553\"\n",
      "[1] \"-------------------------------------------------------------\"\n",
      "[1] \"Distorted Gaussian VAR AT  99 %:   130\"\n",
      "[1] \"Distorted Gaussian ES AT  99 %:   179.330669330669\"\n",
      "[1] \"-------------------------------------------------------------\"\n",
      "[1] \"Distorted Beta VAR AT  99 %:   130\"\n",
      "[1] \"Distorted Beta ES AT  99 %:   182.787212787213\"\n",
      "[1] \"-------------------------------------------------------------\"\n",
      "[1] \"Normal VAR AT  99.5 %:   150\"\n",
      "[1] \"Normal ES AT  99.5 %:   200.01996007984\"\n",
      "[1] \"-------------------------------------------------------------\"\n",
      "[1] \"Distorted Gaussian VAR AT  99.5 %:   160\"\n",
      "[1] \"Distorted Gaussian ES AT  99.5 %:   217.385229540918\"\n",
      "[1] \"-------------------------------------------------------------\"\n",
      "[1] \"Distorted Beta VAR AT  99.5 %:   170\"\n",
      "[1] \"Distorted Beta ES AT  99.5 %:   222.035928143713\"\n",
      "[1] \"-------------------------------------------------------------\"\n",
      "[1] \"Normal VAR AT  99.9 %:   240\"\n",
      "[1] \"Normal ES AT  99.9 %:   289.306930693069\"\n",
      "[1] \"-------------------------------------------------------------\"\n",
      "[1] \"Distorted Gaussian VAR AT  99.9 %:   260\"\n",
      "[1] \"Distorted Gaussian ES AT  99.9 %:   311.287128712871\"\n",
      "[1] \"-------------------------------------------------------------\"\n",
      "[1] \"Distorted Beta VAR AT  99.9 %:   260\"\n",
      "[1] \"Distorted Beta ES AT  99.9 %:   316.435643564356\"\n",
      "[1] \"-------------------------------------------------------------\"\n",
      "[1] \"Normal VAR AT  99.97 %:   300\"\n",
      "[1] \"Normal ES AT  99.97 %:   348.387096774194\"\n",
      "[1] \"-------------------------------------------------------------\"\n",
      "[1] \"Distorted Gaussian VAR AT  99.97 %:   320\"\n",
      "[1] \"Distorted Gaussian ES AT  99.97 %:   372.258064516129\"\n",
      "[1] \"-------------------------------------------------------------\"\n",
      "[1] \"Distorted Beta VAR AT  99.97 %:   320\"\n",
      "[1] \"Distorted Beta ES AT  99.97 %:   376.774193548387\"\n",
      "[1] \"-------------------------------------------------------------\"\n",
      "[1] \"Normal VAR AT  99.99 %:   350\"\n",
      "[1] \"Normal ES AT  99.99 %:   400\"\n",
      "[1] \"-------------------------------------------------------------\"\n",
      "[1] \"Distorted Gaussian VAR AT  99.99 %:   380\"\n",
      "[1] \"Distorted Gaussian ES AT  99.99 %:   426.363636363636\"\n",
      "[1] \"-------------------------------------------------------------\"\n",
      "[1] \"Distorted Beta VAR AT  99.99 %:   380\"\n",
      "[1] \"Distorted Beta ES AT  99.99 %:   430.909090909091\"\n",
      "[1] \"-------------------------------------------------------------\"\n",
      "[1] \"Default Probability:  0.01\"\n"
     ]
    },
    {
     "data": {
      "text/html": [
       "<span style=white-space:pre-wrap>'Distorted Gaussian Default Probability:  0.0115501069793972'</span>"
      ],
      "text/latex": [
       "'Distorted Gaussian Default Probability:  0.0115501069793972'"
      ],
      "text/markdown": [
       "<span style=white-space:pre-wrap>'Distorted Gaussian Default Probability:  0.0115501069793972'</span>"
      ],
      "text/plain": [
       "[1] \"Distorted Gaussian Default Probability:  0.0115501069793972\""
      ]
     },
     "metadata": {},
     "output_type": "display_data"
    },
    {
     "data": {
      "text/html": [
       "<span style=white-space:pre-wrap>'Distorted Beta Default Probability:  0.0119192492100877'</span>"
      ],
      "text/latex": [
       "'Distorted Beta Default Probability:  0.0119192492100877'"
      ],
      "text/markdown": [
       "<span style=white-space:pre-wrap>'Distorted Beta Default Probability:  0.0119192492100877'</span>"
      ],
      "text/plain": [
       "[1] \"Distorted Beta Default Probability:  0.0119192492100877\""
      ]
     },
     "metadata": {},
     "output_type": "display_data"
    },
    {
     "data": {
      "text/html": [
       "<span style=white-space:pre-wrap>'Default Correlation Gaussian:  0.0489006586680761'</span>"
      ],
      "text/latex": [
       "'Default Correlation Gaussian:  0.0489006586680761'"
      ],
      "text/markdown": [
       "<span style=white-space:pre-wrap>'Default Correlation Gaussian:  0.0489006586680761'</span>"
      ],
      "text/plain": [
       "[1] \"Default Correlation Gaussian:  0.0489006586680761\""
      ]
     },
     "metadata": {},
     "output_type": "display_data"
    },
    {
     "data": {
      "text/html": [
       "<span style=white-space:pre-wrap>'Default Correlation Beta:  0.0499999629569202'</span>"
      ],
      "text/latex": [
       "'Default Correlation Beta:  0.0499999629569202'"
      ],
      "text/markdown": [
       "<span style=white-space:pre-wrap>'Default Correlation Beta:  0.0499999629569202'</span>"
      ],
      "text/plain": [
       "[1] \"Default Correlation Beta:  0.0499999629569202\""
      ]
     },
     "metadata": {},
     "output_type": "display_data"
    },
    {
     "data": {
      "text/html": [
       "<span style=white-space:pre-wrap>'Latent Correlation Gaussian:  0.301745320797297'</span>"
      ],
      "text/latex": [
       "'Latent Correlation Gaussian:  0.301745320797297'"
      ],
      "text/markdown": [
       "<span style=white-space:pre-wrap>'Latent Correlation Gaussian:  0.301745320797297'</span>"
      ],
      "text/plain": [
       "[1] \"Latent Correlation Gaussian:  0.301745320797297\""
      ]
     },
     "metadata": {},
     "output_type": "display_data"
    },
    {
     "data": {
      "text/html": [
       "<span style=white-space:pre-wrap>'Latent Correlation Beta:  0.297839924889416'</span>"
      ],
      "text/latex": [
       "'Latent Correlation Beta:  0.297839924889416'"
      ],
      "text/markdown": [
       "<span style=white-space:pre-wrap>'Latent Correlation Beta:  0.297839924889416'</span>"
      ],
      "text/plain": [
       "[1] \"Latent Correlation Beta:  0.297839924889416\""
      ]
     },
     "metadata": {},
     "output_type": "display_data"
    },
    {
     "data": {
      "text/html": [
       "<span style=white-space:pre-wrap>'Distorted Latent Correlation Gaussian:  0.297839796108233'</span>"
      ],
      "text/latex": [
       "'Distorted Latent Correlation Gaussian:  0.297839796108233'"
      ],
      "text/markdown": [
       "<span style=white-space:pre-wrap>'Distorted Latent Correlation Gaussian:  0.297839796108233'</span>"
      ],
      "text/plain": [
       "[1] \"Distorted Latent Correlation Gaussian:  0.297839796108233\""
      ]
     },
     "metadata": {},
     "output_type": "display_data"
    },
    {
     "data": {
      "text/html": [
       "<span style=white-space:pre-wrap>'Distorted Latent Correlation Beta:  0.292615941023663'</span>"
      ],
      "text/latex": [
       "'Distorted Latent Correlation Beta:  0.292615941023663'"
      ],
      "text/markdown": [
       "<span style=white-space:pre-wrap>'Distorted Latent Correlation Beta:  0.292615941023663'</span>"
      ],
      "text/plain": [
       "[1] \"Distorted Latent Correlation Beta:  0.292615941023663\""
      ]
     },
     "metadata": {},
     "output_type": "display_data"
    }
   ],
   "source": [
    "c <- 30\n",
    "MC <- 100000\n",
    "EAD <- 10\n",
    "RR <- 0\n",
    "n <- 100\n",
    "rho <- 0.297839796108233\n",
    "PD <- 0.01\n",
    "mu <- -0.1\n",
    "sigma <- 1\n",
    "a <- 0.95\n",
    "b <- 1.1\n",
    "alpha <- c(0.05, 0.03, 0.01, 0.005, 0.001, 0.0003, 0.0001)\n",
    "\n",
    "# Monte-Carlo\n",
    "\n",
    "mc <- monte_carlo_loss(MC, EAD, RR, n, rho, PD, mu, sigma, a , b)\n",
    "\n",
    "print(\"-------------------------------------------------------------\")\n",
    "\n",
    "paste(\"Average Loss Normal:  $\", average_loss(mc)[1])\n",
    "paste(\"Average Loss Distorted_Gaussian:  $\", average_loss(mc)[2])\n",
    "paste(\"Average Loss Distorted_Beta:  $\", average_loss(mc)[3])\n",
    "\n",
    "print(\"-------------------------------------------------------------\")\n",
    "\n",
    "for (value in alpha){\n",
    "  print(paste(\"Normal VAR AT \", 100*(1-value) , \"%:  \",  value_at_risk(mc, value)[1]))\n",
    "  print(paste(\"Normal ES AT \", 100*(1-value), \"%:  \",  expected_shortfall(mc, value)[1]))\n",
    "  print(\"-------------------------------------------------------------\")\n",
    "  print(paste(\"Distorted Gaussian VAR AT \", 100*(1-value) , \"%:  \",  value_at_risk(mc, value)[2]))\n",
    "  print(paste(\"Distorted Gaussian ES AT \", 100*(1-value), \"%:  \",  expected_shortfall(mc, value)[2]))\n",
    "  print(\"-------------------------------------------------------------\") \n",
    "  print(paste(\"Distorted Beta VAR AT \", 100*(1-value) , \"%:  \",  value_at_risk(mc, value)[3]))\n",
    "  print(paste(\"Distorted Beta ES AT \", 100*(1-value), \"%:  \",  expected_shortfall(mc, value)[3]))\n",
    "  print(\"-------------------------------------------------------------\")\n",
    "}\n",
    "\n",
    "print(paste(\"Default Probability: \", PD))\n",
    "paste(\"Distorted Gaussian Default Probability: \", gaussian_default_prob(mu, sigma^2, PD, rho))\n",
    "paste(\"Distorted Beta Default Probability: \", beta_default_prob(a, b, PD, rho))\n",
    "\n",
    "paste(\"Default Correlation Gaussian: \", gaussian_default_corr(mu,sigma^2,PD,rho))\n",
    "paste(\"Default Correlation Beta: \",beta_default_corr(a,b,PD,rho))\n",
    "\n",
    "paste(\"Latent Correlation Gaussian: \", find_rho_gaussian(0.05, mu, sigma^2, PD))\n",
    "paste(\"Latent Correlation Beta: \", find_rho_beta(0.05, a, b, PD))\n",
    "\n",
    "paste(\"Distorted Latent Correlation Gaussian: \", distorted_LC(rho, sigma^2))\n",
    "paste(\"Distorted Latent Correlation Beta: \", distorted_LC(rho, beta_variance(a,b,find_rho_beta(0.05, a, b, PD))))\n"
   ]
  },
  {
   "cell_type": "code",
   "execution_count": 25,
   "id": "8c7d7b3f-32e4-4f09-8171-acf7e866d04a",
   "metadata": {},
   "outputs": [
    {
     "data": {
      "text/html": [
       "<style>\n",
       ".list-inline {list-style: none; margin:0; padding: 0}\n",
       ".list-inline>li {display: inline-block}\n",
       ".list-inline>li:not(:last-child)::after {content: \"\\00b7\"; padding: 0 .5ex}\n",
       "</style>\n",
       "<ol class=list-inline><li>10.0876666666667</li><li>11.6570666666667</li><li>12.0288</li></ol>\n"
      ],
      "text/latex": [
       "\\begin{enumerate*}\n",
       "\\item 10.0876666666667\n",
       "\\item 11.6570666666667\n",
       "\\item 12.0288\n",
       "\\end{enumerate*}\n"
      ],
      "text/markdown": [
       "1. 10.0876666666667\n",
       "2. 11.6570666666667\n",
       "3. 12.0288\n",
       "\n",
       "\n"
      ],
      "text/plain": [
       "[1] 10.08767 11.65707 12.02880"
      ]
     },
     "metadata": {},
     "output_type": "display_data"
    },
    {
     "data": {
      "text/html": [
       "<table class=\"dataframe\">\n",
       "<caption>A matrix: 7 × 3 of type dbl</caption>\n",
       "<tbody>\n",
       "\t<tr><td> 89.99202</td><td>100.4797</td><td>102.8283</td></tr>\n",
       "\t<tr><td>112.06645</td><td>124.2558</td><td>127.1584</td></tr>\n",
       "\t<tr><td>165.36634</td><td>181.5908</td><td>185.3993</td></tr>\n",
       "\t<tr><td>202.79739</td><td>221.0588</td><td>225.2288</td></tr>\n",
       "\t<tr><td>292.57576</td><td>314.8182</td><td>319.7273</td></tr>\n",
       "\t<tr><td>351.58333</td><td>376.4167</td><td>382.0833</td></tr>\n",
       "\t<tr><td>390.50000</td><td>416.5000</td><td>422.3333</td></tr>\n",
       "</tbody>\n",
       "</table>\n"
      ],
      "text/latex": [
       "A matrix: 7 × 3 of type dbl\n",
       "\\begin{tabular}{lll}\n",
       "\t  89.99202 & 100.4797 & 102.8283\\\\\n",
       "\t 112.06645 & 124.2558 & 127.1584\\\\\n",
       "\t 165.36634 & 181.5908 & 185.3993\\\\\n",
       "\t 202.79739 & 221.0588 & 225.2288\\\\\n",
       "\t 292.57576 & 314.8182 & 319.7273\\\\\n",
       "\t 351.58333 & 376.4167 & 382.0833\\\\\n",
       "\t 390.50000 & 416.5000 & 422.3333\\\\\n",
       "\\end{tabular}\n"
      ],
      "text/markdown": [
       "\n",
       "A matrix: 7 × 3 of type dbl\n",
       "\n",
       "|  89.99202 | 100.4797 | 102.8283 |\n",
       "| 112.06645 | 124.2558 | 127.1584 |\n",
       "| 165.36634 | 181.5908 | 185.3993 |\n",
       "| 202.79739 | 221.0588 | 225.2288 |\n",
       "| 292.57576 | 314.8182 | 319.7273 |\n",
       "| 351.58333 | 376.4167 | 382.0833 |\n",
       "| 390.50000 | 416.5000 | 422.3333 |\n",
       "\n"
      ],
      "text/plain": [
       "     [,1]      [,2]     [,3]    \n",
       "[1,]  89.99202 100.4797 102.8283\n",
       "[2,] 112.06645 124.2558 127.1584\n",
       "[3,] 165.36634 181.5908 185.3993\n",
       "[4,] 202.79739 221.0588 225.2288\n",
       "[5,] 292.57576 314.8182 319.7273\n",
       "[6,] 351.58333 376.4167 382.0833\n",
       "[7,] 390.50000 416.5000 422.3333"
      ]
     },
     "metadata": {},
     "output_type": "display_data"
    },
    {
     "data": {
      "text/html": [
       "<table class=\"dataframe\">\n",
       "<caption>A matrix: 7 × 3 of type dbl</caption>\n",
       "<tbody>\n",
       "\t<tr><td> 50.00000</td><td> 56.66667</td><td> 59.66667</td></tr>\n",
       "\t<tr><td> 68.33333</td><td> 74.66667</td><td> 78.00000</td></tr>\n",
       "\t<tr><td>113.33333</td><td>126.33333</td><td>129.00000</td></tr>\n",
       "\t<tr><td>148.00000</td><td>163.00000</td><td>166.00000</td></tr>\n",
       "\t<tr><td>236.33333</td><td>257.00000</td><td>260.33333</td></tr>\n",
       "\t<tr><td>302.66667</td><td>325.33333</td><td>331.66667</td></tr>\n",
       "\t<tr><td>363.66667</td><td>389.33333</td><td>395.00000</td></tr>\n",
       "</tbody>\n",
       "</table>\n"
      ],
      "text/latex": [
       "A matrix: 7 × 3 of type dbl\n",
       "\\begin{tabular}{lll}\n",
       "\t  50.00000 &  56.66667 &  59.66667\\\\\n",
       "\t  68.33333 &  74.66667 &  78.00000\\\\\n",
       "\t 113.33333 & 126.33333 & 129.00000\\\\\n",
       "\t 148.00000 & 163.00000 & 166.00000\\\\\n",
       "\t 236.33333 & 257.00000 & 260.33333\\\\\n",
       "\t 302.66667 & 325.33333 & 331.66667\\\\\n",
       "\t 363.66667 & 389.33333 & 395.00000\\\\\n",
       "\\end{tabular}\n"
      ],
      "text/markdown": [
       "\n",
       "A matrix: 7 × 3 of type dbl\n",
       "\n",
       "|  50.00000 |  56.66667 |  59.66667 |\n",
       "|  68.33333 |  74.66667 |  78.00000 |\n",
       "| 113.33333 | 126.33333 | 129.00000 |\n",
       "| 148.00000 | 163.00000 | 166.00000 |\n",
       "| 236.33333 | 257.00000 | 260.33333 |\n",
       "| 302.66667 | 325.33333 | 331.66667 |\n",
       "| 363.66667 | 389.33333 | 395.00000 |\n",
       "\n"
      ],
      "text/plain": [
       "     [,1]      [,2]      [,3]     \n",
       "[1,]  50.00000  56.66667  59.66667\n",
       "[2,]  68.33333  74.66667  78.00000\n",
       "[3,] 113.33333 126.33333 129.00000\n",
       "[4,] 148.00000 163.00000 166.00000\n",
       "[5,] 236.33333 257.00000 260.33333\n",
       "[6,] 302.66667 325.33333 331.66667\n",
       "[7,] 363.66667 389.33333 395.00000"
      ]
     },
     "metadata": {},
     "output_type": "display_data"
    }
   ],
   "source": [
    "# Example usage\n",
    "results <- confidence_intervals(30, 10000, EAD, RR, n, rho, PD, mu, sigma, a, b, alpha)\n",
    "\n",
    "# Extracting specific results for further analysis\n",
    "avg_ci <- results$ci_avg\n",
    "var_cis <- results$ci_VaR\n",
    "es_cis <- results$ci_ES\n",
    "\n",
    "avg_ci\n",
    "var_cis/30\n",
    "es_cis/30\n"
   ]
  },
  {
   "cell_type": "code",
   "execution_count": null,
   "id": "685ee934-06b7-4f34-b224-a7a66f7c50e9",
   "metadata": {},
   "outputs": [],
   "source": []
  }
 ],
 "metadata": {
  "kernelspec": {
   "display_name": "R",
   "language": "R",
   "name": "ir"
  },
  "language_info": {
   "codemirror_mode": "r",
   "file_extension": ".r",
   "mimetype": "text/x-r-source",
   "name": "R",
   "pygments_lexer": "r",
   "version": "4.3.1"
  }
 },
 "nbformat": 4,
 "nbformat_minor": 5
}
