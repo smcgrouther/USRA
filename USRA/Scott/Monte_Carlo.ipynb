{
 "cells": [
  {
   "cell_type": "code",
   "execution_count": 34,
   "id": "e23ab60a-40dc-4a53-817c-b5e27250447c",
   "metadata": {},
   "outputs": [],
   "source": [
    "#IMPORTING\n",
    "\n",
    "source(\"Gaussian.r\")\n",
    "source(\"Gamma.r\")\n",
    "source(\"Beta.r\")\n",
    "source(\"Loss.r\")\n"
   ]
  },
  {
   "cell_type": "code",
   "execution_count": 35,
   "id": "3c82d780-29f2-4dd2-991b-4f2e4233b3c8",
   "metadata": {
    "editable": true,
    "slideshow": {
     "slide_type": ""
    },
    "tags": []
   },
   "outputs": [
    {
     "name": "stdout",
     "output_type": "stream",
     "text": [
      "[1] \"Gaussian\"\n",
      "[1] \"-------------------------------------------------------------\"\n"
     ]
    },
    {
     "data": {
      "text/html": [
       "<span style=white-space:pre-wrap>'Average Loss Normal:  $ 9.8376'</span>"
      ],
      "text/latex": [
       "'Average Loss Normal:  \\$ 9.8376'"
      ],
      "text/markdown": [
       "<span style=white-space:pre-wrap>'Average Loss Normal:  $ 9.8376'</span>"
      ],
      "text/plain": [
       "[1] \"Average Loss Normal:  $ 9.8376\""
      ]
     },
     "metadata": {},
     "output_type": "display_data"
    },
    {
     "data": {
      "text/html": [
       "<span style=white-space:pre-wrap>'Average Loss Distorted_Gaussian:  $ 11.3864'</span>"
      ],
      "text/latex": [
       "'Average Loss Distorted\\_Gaussian:  \\$ 11.3864'"
      ],
      "text/markdown": [
       "<span style=white-space:pre-wrap>'Average Loss Distorted_Gaussian:  $ 11.3864'</span>"
      ],
      "text/plain": [
       "[1] \"Average Loss Distorted_Gaussian:  $ 11.3864\""
      ]
     },
     "metadata": {},
     "output_type": "display_data"
    },
    {
     "data": {
      "text/html": [
       "<span style=white-space:pre-wrap>'Average Loss Distorted_Beta:  $ 11.7518'</span>"
      ],
      "text/latex": [
       "'Average Loss Distorted\\_Beta:  \\$ 11.7518'"
      ],
      "text/markdown": [
       "<span style=white-space:pre-wrap>'Average Loss Distorted_Beta:  $ 11.7518'</span>"
      ],
      "text/plain": [
       "[1] \"Average Loss Distorted_Beta:  $ 11.7518\""
      ]
     },
     "metadata": {},
     "output_type": "display_data"
    },
    {
     "name": "stdout",
     "output_type": "stream",
     "text": [
      "[1] \"-------------------------------------------------------------\"\n",
      "[1] \"Normal VAR AT  95 %:   50\"\n",
      "[1] \"Normal ES AT  95 %:   88.1823635272945\"\n",
      "[1] \"-------------------------------------------------------------\"\n",
      "[1] \"Distorted Gaussian VAR AT  95 %:   50\"\n",
      "[1] \"Distorted Gaussian ES AT  95 %:   98.5142971405719\"\n",
      "[1] \"-------------------------------------------------------------\"\n",
      "[1] \"Distorted Beta VAR AT  95 %:   60\"\n",
      "[1] \"Distorted Beta ES AT  95 %:   100.863827234553\"\n",
      "[1] \"-------------------------------------------------------------\"\n",
      "[1] \"Normal VAR AT  97 %:   70\"\n",
      "[1] \"Normal ES AT  97 %:   110.159946684439\"\n",
      "[1] \"-------------------------------------------------------------\"\n",
      "[1] \"Distorted Gaussian VAR AT  97 %:   70\"\n",
      "[1] \"Distorted Gaussian ES AT  97 %:   122.075974675108\"\n",
      "[1] \"-------------------------------------------------------------\"\n",
      "[1] \"Distorted Beta VAR AT  97 %:   80\"\n",
      "[1] \"Distorted Beta ES AT  97 %:   124.951682772409\"\n",
      "[1] \"-------------------------------------------------------------\"\n",
      "[1] \"Normal VAR AT  99 %:   110\"\n",
      "[1] \"Normal ES AT  99 %:   162.867132867133\"\n",
      "[1] \"-------------------------------------------------------------\"\n",
      "[1] \"Distorted Gaussian VAR AT  99 %:   120\"\n",
      "[1] \"Distorted Gaussian ES AT  99 %:   179.000999000999\"\n",
      "[1] \"-------------------------------------------------------------\"\n",
      "[1] \"Distorted Beta VAR AT  99 %:   130\"\n",
      "[1] \"Distorted Beta ES AT  99 %:   182.747252747253\"\n",
      "[1] \"-------------------------------------------------------------\"\n",
      "[1] \"Normal VAR AT  99.5 %:   140\"\n",
      "[1] \"Normal ES AT  99.5 %:   200.319361277445\"\n",
      "[1] \"-------------------------------------------------------------\"\n",
      "[1] \"Distorted Gaussian VAR AT  99.5 %:   160\"\n",
      "[1] \"Distorted Gaussian ES AT  99.5 %:   218.283433133733\"\n",
      "[1] \"-------------------------------------------------------------\"\n",
      "[1] \"Distorted Beta VAR AT  99.5 %:   160\"\n",
      "[1] \"Distorted Beta ES AT  99.5 %:   222.914171656687\"\n",
      "[1] \"-------------------------------------------------------------\"\n",
      "[1] \"Normal VAR AT  99.9 %:   230\"\n",
      "[1] \"Normal ES AT  99.9 %:   293.069306930693\"\n",
      "[1] \"-------------------------------------------------------------\"\n",
      "[1] \"Distorted Gaussian VAR AT  99.9 %:   260\"\n",
      "[1] \"Distorted Gaussian ES AT  99.9 %:   315.148514851485\"\n",
      "[1] \"-------------------------------------------------------------\"\n",
      "[1] \"Distorted Beta VAR AT  99.9 %:   260\"\n",
      "[1] \"Distorted Beta ES AT  99.9 %:   322.178217821782\"\n",
      "[1] \"-------------------------------------------------------------\"\n",
      "[1] \"Normal VAR AT  99.97 %:   310\"\n",
      "[1] \"Normal ES AT  99.97 %:   364.516129032258\"\n",
      "[1] \"-------------------------------------------------------------\"\n",
      "[1] \"Distorted Gaussian VAR AT  99.97 %:   340\"\n",
      "[1] \"Distorted Gaussian ES AT  99.97 %:   388.387096774194\"\n",
      "[1] \"-------------------------------------------------------------\"\n",
      "[1] \"Distorted Beta VAR AT  99.97 %:   340\"\n",
      "[1] \"Distorted Beta ES AT  99.97 %:   395.806451612903\"\n",
      "[1] \"-------------------------------------------------------------\"\n",
      "[1] \"Normal VAR AT  99.99 %:   360\"\n",
      "[1] \"Normal ES AT  99.99 %:   414.545454545455\"\n",
      "[1] \"-------------------------------------------------------------\"\n",
      "[1] \"Distorted Gaussian VAR AT  99.99 %:   390\"\n",
      "[1] \"Distorted Gaussian ES AT  99.99 %:   442.727272727273\"\n",
      "[1] \"-------------------------------------------------------------\"\n",
      "[1] \"Distorted Beta VAR AT  99.99 %:   400\"\n",
      "[1] \"Distorted Beta ES AT  99.99 %:   449.090909090909\"\n",
      "[1] \"-------------------------------------------------------------\"\n",
      "[1] \"Default Probability:  0.01\"\n"
     ]
    },
    {
     "data": {
      "text/html": [
       "<span style=white-space:pre-wrap>'Distorted Gaussian Default Probability:  0.0115608875189435'</span>"
      ],
      "text/latex": [
       "'Distorted Gaussian Default Probability:  0.0115608875189435'"
      ],
      "text/markdown": [
       "<span style=white-space:pre-wrap>'Distorted Gaussian Default Probability:  0.0115608875189435'</span>"
      ],
      "text/plain": [
       "[1] \"Distorted Gaussian Default Probability:  0.0115608875189435\""
      ]
     },
     "metadata": {},
     "output_type": "display_data"
    },
    {
     "data": {
      "text/html": [
       "<span style=white-space:pre-wrap>'Distorted Beta Default Probability:  0.011932415796538'</span>"
      ],
      "text/latex": [
       "'Distorted Beta Default Probability:  0.011932415796538'"
      ],
      "text/markdown": [
       "<span style=white-space:pre-wrap>'Distorted Beta Default Probability:  0.011932415796538'</span>"
      ],
      "text/plain": [
       "[1] \"Distorted Beta Default Probability:  0.011932415796538\""
      ]
     },
     "metadata": {},
     "output_type": "display_data"
    },
    {
     "data": {
      "text/html": [
       "<span style=white-space:pre-wrap>'Default Correlation Gaussian:  0.0499999981887967'</span>"
      ],
      "text/latex": [
       "'Default Correlation Gaussian:  0.0499999981887967'"
      ],
      "text/markdown": [
       "<span style=white-space:pre-wrap>'Default Correlation Gaussian:  0.0499999981887967'</span>"
      ],
      "text/plain": [
       "[1] \"Default Correlation Gaussian:  0.0499999981887967\""
      ]
     },
     "metadata": {},
     "output_type": "display_data"
    },
    {
     "data": {
      "text/html": [
       "<span style=white-space:pre-wrap>'Default Correlation Beta:  0.0511309601100401'</span>"
      ],
      "text/latex": [
       "'Default Correlation Beta:  0.0511309601100401'"
      ],
      "text/markdown": [
       "<span style=white-space:pre-wrap>'Default Correlation Beta:  0.0511309601100401'</span>"
      ],
      "text/plain": [
       "[1] \"Default Correlation Beta:  0.0511309601100401\""
      ]
     },
     "metadata": {},
     "output_type": "display_data"
    },
    {
     "data": {
      "text/html": [
       "<span style=white-space:pre-wrap>'Latent Correlation Gaussian:  0.301745320797297'</span>"
      ],
      "text/latex": [
       "'Latent Correlation Gaussian:  0.301745320797297'"
      ],
      "text/markdown": [
       "<span style=white-space:pre-wrap>'Latent Correlation Gaussian:  0.301745320797297'</span>"
      ],
      "text/plain": [
       "[1] \"Latent Correlation Gaussian:  0.301745320797297\""
      ]
     },
     "metadata": {},
     "output_type": "display_data"
    },
    {
     "data": {
      "text/html": [
       "<span style=white-space:pre-wrap>'Latent Correlation Beta:  0.297839924889416'</span>"
      ],
      "text/latex": [
       "'Latent Correlation Beta:  0.297839924889416'"
      ],
      "text/markdown": [
       "<span style=white-space:pre-wrap>'Latent Correlation Beta:  0.297839924889416'</span>"
      ],
      "text/plain": [
       "[1] \"Latent Correlation Beta:  0.297839924889416\""
      ]
     },
     "metadata": {},
     "output_type": "display_data"
    },
    {
     "data": {
      "text/html": [
       "<span style=white-space:pre-wrap>'Distorted Latent Correlation Gaussian:  0.297839796108233'</span>"
      ],
      "text/latex": [
       "'Distorted Latent Correlation Gaussian:  0.297839796108233'"
      ],
      "text/markdown": [
       "<span style=white-space:pre-wrap>'Distorted Latent Correlation Gaussian:  0.297839796108233'</span>"
      ],
      "text/plain": [
       "[1] \"Distorted Latent Correlation Gaussian:  0.297839796108233\""
      ]
     },
     "metadata": {},
     "output_type": "display_data"
    },
    {
     "data": {
      "text/html": [
       "<span style=white-space:pre-wrap>'Distorted Latent Correlation Beta:  0.296481889579095'</span>"
      ],
      "text/latex": [
       "'Distorted Latent Correlation Beta:  0.296481889579095'"
      ],
      "text/markdown": [
       "<span style=white-space:pre-wrap>'Distorted Latent Correlation Beta:  0.296481889579095'</span>"
      ],
      "text/plain": [
       "[1] \"Distorted Latent Correlation Beta:  0.296481889579095\""
      ]
     },
     "metadata": {},
     "output_type": "display_data"
    }
   ],
   "source": [
    "c <- 30\n",
    "MC <- 100000\n",
    "EAD <- 10\n",
    "RR <- 0\n",
    "n <- 100\n",
    "rho2 <- 0.297839796108233\n",
    "rho1 <- 0.301745320797297\n",
    "PD <- 0.01\n",
    "mu <- -0.1\n",
    "sigma <- 1\n",
    "a <- 0.95\n",
    "b <- 1.1\n",
    "alpha <- c(0.05, 0.03, 0.01, 0.005, 0.001, 0.0003, 0.0001)\n",
    "\n",
    "# Monte-Carlo\n",
    "\n",
    "mc <- monte_carlo_loss(MC, EAD, RR, n, rho1, PD, mu, sigma, a , b)\n",
    "\n",
    "print(\"Gaussian\")\n",
    "print(\"-------------------------------------------------------------\")\n",
    "\n",
    "paste(\"Average Loss Normal:  $\", average_loss(mc)[1])\n",
    "paste(\"Average Loss Distorted_Gaussian:  $\", average_loss(mc)[2])\n",
    "paste(\"Average Loss Distorted_Beta:  $\", average_loss(mc)[3])\n",
    "\n",
    "print(\"-------------------------------------------------------------\")\n",
    "\n",
    "for (value in alpha){\n",
    "  print(paste(\"Normal VAR AT \", 100*(1-value) , \"%:  \",  value_at_risk(mc, value)[1]))\n",
    "  print(paste(\"Normal ES AT \", 100*(1-value), \"%:  \",  expected_shortfall(mc, value)[1]))\n",
    "  print(\"-------------------------------------------------------------\")\n",
    "  print(paste(\"Distorted Gaussian VAR AT \", 100*(1-value) , \"%:  \",  value_at_risk(mc, value)[2]))\n",
    "  print(paste(\"Distorted Gaussian ES AT \", 100*(1-value), \"%:  \",  expected_shortfall(mc, value)[2]))\n",
    "  print(\"-------------------------------------------------------------\") \n",
    "  print(paste(\"Distorted Beta VAR AT \", 100*(1-value) , \"%:  \",  value_at_risk(mc, value)[3]))\n",
    "  print(paste(\"Distorted Beta ES AT \", 100*(1-value), \"%:  \",  expected_shortfall(mc, value)[3]))\n",
    "  print(\"-------------------------------------------------------------\")\n",
    "}\n",
    "\n",
    "print(paste(\"Default Probability: \", PD))\n",
    "paste(\"Distorted Gaussian Default Probability: \", gaussian_default_prob(mu, sigma, PD, rho1))\n",
    "paste(\"Distorted Beta Default Probability: \", beta_default_prob(a, b, PD, rho1))\n",
    "\n",
    "paste(\"Default Correlation Gaussian: \", gaussian_default_corr(mu,sigma,PD,rho1))\n",
    "paste(\"Default Correlation Beta: \",beta_default_corr(a,b,PD,rho1))\n",
    "\n",
    "paste(\"Latent Correlation Gaussian: \", find_rho_gaussian(0.05, mu, sigma, PD))\n",
    "paste(\"Latent Correlation Beta: \", find_rho_beta(0.05, a, b, PD))\n",
    "\n",
    "paste(\"Distorted Latent Correlation Gaussian: \", distorted_LC(rho, sigma))\n",
    "paste(\"Distorted Latent Correlation Beta: \", distorted_LC(rho1, beta_variance(a,b,find_rho_beta(0.05, a, b, PD))))\n"
   ]
  },
  {
   "cell_type": "code",
   "execution_count": 36,
   "id": "eaf32cbe-ff8b-48d4-901b-c61303962c20",
   "metadata": {},
   "outputs": [
    {
     "name": "stdout",
     "output_type": "stream",
     "text": [
      "[1] \"Beta\"\n",
      "[1] \"-------------------------------------------------------------\"\n"
     ]
    },
    {
     "data": {
      "text/html": [
       "<span style=white-space:pre-wrap>'Average Loss Normal:  $ 9.9369'</span>"
      ],
      "text/latex": [
       "'Average Loss Normal:  \\$ 9.9369'"
      ],
      "text/markdown": [
       "<span style=white-space:pre-wrap>'Average Loss Normal:  $ 9.9369'</span>"
      ],
      "text/plain": [
       "[1] \"Average Loss Normal:  $ 9.9369\""
      ]
     },
     "metadata": {},
     "output_type": "display_data"
    },
    {
     "data": {
      "text/html": [
       "<span style=white-space:pre-wrap>'Average Loss Distorted_Gaussian:  $ 11.4771'</span>"
      ],
      "text/latex": [
       "'Average Loss Distorted\\_Gaussian:  \\$ 11.4771'"
      ],
      "text/markdown": [
       "<span style=white-space:pre-wrap>'Average Loss Distorted_Gaussian:  $ 11.4771'</span>"
      ],
      "text/plain": [
       "[1] \"Average Loss Distorted_Gaussian:  $ 11.4771\""
      ]
     },
     "metadata": {},
     "output_type": "display_data"
    },
    {
     "data": {
      "text/html": [
       "<span style=white-space:pre-wrap>'Average Loss Distorted_Beta:  $ 11.834'</span>"
      ],
      "text/latex": [
       "'Average Loss Distorted\\_Beta:  \\$ 11.834'"
      ],
      "text/markdown": [
       "<span style=white-space:pre-wrap>'Average Loss Distorted_Beta:  $ 11.834'</span>"
      ],
      "text/plain": [
       "[1] \"Average Loss Distorted_Beta:  $ 11.834\""
      ]
     },
     "metadata": {},
     "output_type": "display_data"
    },
    {
     "name": "stdout",
     "output_type": "stream",
     "text": [
      "[1] \"-------------------------------------------------------------\"\n",
      "[1] \"Normal VAR AT  95 %:   50\"\n",
      "[1] \"Normal ES AT  95 %:   88.5302939412118\"\n",
      "[1] \"-------------------------------------------------------------\"\n",
      "[1] \"Distorted Gaussian VAR AT  95 %:   50\"\n",
      "[1] \"Distorted Gaussian ES AT  95 %:   98.9242151569686\"\n",
      "[1] \"-------------------------------------------------------------\"\n",
      "[1] \"Distorted Beta VAR AT  95 %:   60\"\n",
      "[1] \"Distorted Beta ES AT  95 %:   101.057788442312\"\n",
      "[1] \"-------------------------------------------------------------\"\n",
      "[1] \"Normal VAR AT  97 %:   70\"\n",
      "[1] \"Normal ES AT  97 %:   110.53982005998\"\n",
      "[1] \"-------------------------------------------------------------\"\n",
      "[1] \"Distorted Gaussian VAR AT  97 %:   70\"\n",
      "[1] \"Distorted Gaussian ES AT  97 %:   122.435854715095\"\n",
      "[1] \"-------------------------------------------------------------\"\n",
      "[1] \"Distorted Beta VAR AT  97 %:   80\"\n",
      "[1] \"Distorted Beta ES AT  97 %:   125.144951682772\"\n",
      "[1] \"-------------------------------------------------------------\"\n",
      "[1] \"Normal VAR AT  99 %:   110\"\n",
      "[1] \"Normal ES AT  99 %:   164.775224775225\"\n",
      "[1] \"-------------------------------------------------------------\"\n",
      "[1] \"Distorted Gaussian VAR AT  99 %:   120\"\n",
      "[1] \"Distorted Gaussian ES AT  99 %:   180.669330669331\"\n",
      "[1] \"-------------------------------------------------------------\"\n",
      "[1] \"Distorted Beta VAR AT  99 %:   130\"\n",
      "[1] \"Distorted Beta ES AT  99 %:   184.125874125874\"\n",
      "[1] \"-------------------------------------------------------------\"\n",
      "[1] \"Normal VAR AT  99.5 %:   150\"\n",
      "[1] \"Normal ES AT  99.5 %:   203.213572854291\"\n",
      "[1] \"-------------------------------------------------------------\"\n",
      "[1] \"Distorted Gaussian VAR AT  99.5 %:   160\"\n",
      "[1] \"Distorted Gaussian ES AT  99.5 %:   220.239520958084\"\n",
      "[1] \"-------------------------------------------------------------\"\n",
      "[1] \"Distorted Beta VAR AT  99.5 %:   170\"\n",
      "[1] \"Distorted Beta ES AT  99.5 %:   224.231536926148\"\n",
      "[1] \"-------------------------------------------------------------\"\n",
      "[1] \"Normal VAR AT  99.9 %:   240\"\n",
      "[1] \"Normal ES AT  99.9 %:   301.584158415842\"\n",
      "[1] \"-------------------------------------------------------------\"\n",
      "[1] \"Distorted Gaussian VAR AT  99.9 %:   260\"\n",
      "[1] \"Distorted Gaussian ES AT  99.9 %:   322.079207920792\"\n",
      "[1] \"-------------------------------------------------------------\"\n",
      "[1] \"Distorted Beta VAR AT  99.9 %:   260\"\n",
      "[1] \"Distorted Beta ES AT  99.9 %:   326.732673267327\"\n",
      "[1] \"-------------------------------------------------------------\"\n",
      "[1] \"Normal VAR AT  99.97 %:   310\"\n",
      "[1] \"Normal ES AT  99.97 %:   371.612903225806\"\n",
      "[1] \"-------------------------------------------------------------\"\n",
      "[1] \"Distorted Gaussian VAR AT  99.97 %:   330\"\n",
      "[1] \"Distorted Gaussian ES AT  99.97 %:   393.870967741935\"\n",
      "[1] \"-------------------------------------------------------------\"\n",
      "[1] \"Distorted Beta VAR AT  99.97 %:   340\"\n",
      "[1] \"Distorted Beta ES AT  99.97 %:   399.677419354839\"\n",
      "[1] \"-------------------------------------------------------------\"\n",
      "[1] \"Normal VAR AT  99.99 %:   380\"\n",
      "[1] \"Normal ES AT  99.99 %:   429.090909090909\"\n",
      "[1] \"-------------------------------------------------------------\"\n",
      "[1] \"Distorted Gaussian VAR AT  99.99 %:   400\"\n",
      "[1] \"Distorted Gaussian ES AT  99.99 %:   452.727272727273\"\n",
      "[1] \"-------------------------------------------------------------\"\n",
      "[1] \"Distorted Beta VAR AT  99.99 %:   400\"\n",
      "[1] \"Distorted Beta ES AT  99.99 %:   455.454545454545\"\n",
      "[1] \"-------------------------------------------------------------\"\n",
      "[1] \"Default Probability:  0.01\"\n"
     ]
    },
    {
     "data": {
      "text/html": [
       "<span style=white-space:pre-wrap>'Distorted Gaussian Default Probability:  0.0115501069793972'</span>"
      ],
      "text/latex": [
       "'Distorted Gaussian Default Probability:  0.0115501069793972'"
      ],
      "text/markdown": [
       "<span style=white-space:pre-wrap>'Distorted Gaussian Default Probability:  0.0115501069793972'</span>"
      ],
      "text/plain": [
       "[1] \"Distorted Gaussian Default Probability:  0.0115501069793972\""
      ]
     },
     "metadata": {},
     "output_type": "display_data"
    },
    {
     "data": {
      "text/html": [
       "<span style=white-space:pre-wrap>'Distorted Beta Default Probability:  0.0119192492100877'</span>"
      ],
      "text/latex": [
       "'Distorted Beta Default Probability:  0.0119192492100877'"
      ],
      "text/markdown": [
       "<span style=white-space:pre-wrap>'Distorted Beta Default Probability:  0.0119192492100877'</span>"
      ],
      "text/plain": [
       "[1] \"Distorted Beta Default Probability:  0.0119192492100877\""
      ]
     },
     "metadata": {},
     "output_type": "display_data"
    },
    {
     "data": {
      "text/html": [
       "<span style=white-space:pre-wrap>'Default Correlation Gaussian:  0.0489006586680761'</span>"
      ],
      "text/latex": [
       "'Default Correlation Gaussian:  0.0489006586680761'"
      ],
      "text/markdown": [
       "<span style=white-space:pre-wrap>'Default Correlation Gaussian:  0.0489006586680761'</span>"
      ],
      "text/plain": [
       "[1] \"Default Correlation Gaussian:  0.0489006586680761\""
      ]
     },
     "metadata": {},
     "output_type": "display_data"
    },
    {
     "data": {
      "text/html": [
       "<span style=white-space:pre-wrap>'Default Correlation Beta:  0.0499999629569202'</span>"
      ],
      "text/latex": [
       "'Default Correlation Beta:  0.0499999629569202'"
      ],
      "text/markdown": [
       "<span style=white-space:pre-wrap>'Default Correlation Beta:  0.0499999629569202'</span>"
      ],
      "text/plain": [
       "[1] \"Default Correlation Beta:  0.0499999629569202\""
      ]
     },
     "metadata": {},
     "output_type": "display_data"
    },
    {
     "data": {
      "text/html": [
       "<span style=white-space:pre-wrap>'Latent Correlation Gaussian:  0.301745320797297'</span>"
      ],
      "text/latex": [
       "'Latent Correlation Gaussian:  0.301745320797297'"
      ],
      "text/markdown": [
       "<span style=white-space:pre-wrap>'Latent Correlation Gaussian:  0.301745320797297'</span>"
      ],
      "text/plain": [
       "[1] \"Latent Correlation Gaussian:  0.301745320797297\""
      ]
     },
     "metadata": {},
     "output_type": "display_data"
    },
    {
     "data": {
      "text/html": [
       "<span style=white-space:pre-wrap>'Latent Correlation Beta:  0.297839924889416'</span>"
      ],
      "text/latex": [
       "'Latent Correlation Beta:  0.297839924889416'"
      ],
      "text/markdown": [
       "<span style=white-space:pre-wrap>'Latent Correlation Beta:  0.297839924889416'</span>"
      ],
      "text/plain": [
       "[1] \"Latent Correlation Beta:  0.297839924889416\""
      ]
     },
     "metadata": {},
     "output_type": "display_data"
    },
    {
     "data": {
      "text/html": [
       "<span style=white-space:pre-wrap>'Distorted Latent Correlation Gaussian:  0.297839796108233'</span>"
      ],
      "text/latex": [
       "'Distorted Latent Correlation Gaussian:  0.297839796108233'"
      ],
      "text/markdown": [
       "<span style=white-space:pre-wrap>'Distorted Latent Correlation Gaussian:  0.297839796108233'</span>"
      ],
      "text/plain": [
       "[1] \"Distorted Latent Correlation Gaussian:  0.297839796108233\""
      ]
     },
     "metadata": {},
     "output_type": "display_data"
    },
    {
     "data": {
      "text/html": [
       "<span style=white-space:pre-wrap>'Distorted Latent Correlation Beta:  0.292615941023663'</span>"
      ],
      "text/latex": [
       "'Distorted Latent Correlation Beta:  0.292615941023663'"
      ],
      "text/markdown": [
       "<span style=white-space:pre-wrap>'Distorted Latent Correlation Beta:  0.292615941023663'</span>"
      ],
      "text/plain": [
       "[1] \"Distorted Latent Correlation Beta:  0.292615941023663\""
      ]
     },
     "metadata": {},
     "output_type": "display_data"
    }
   ],
   "source": [
    "# Monte-Carlo\n",
    "\n",
    "mc <- monte_carlo_loss(MC, EAD, RR, n, rho2, PD, mu, sigma, a , b)\n",
    "\n",
    "print(\"Beta\")\n",
    "print(\"-------------------------------------------------------------\")\n",
    "\n",
    "paste(\"Average Loss Normal:  $\", average_loss(mc)[1])\n",
    "paste(\"Average Loss Distorted_Gaussian:  $\", average_loss(mc)[2])\n",
    "paste(\"Average Loss Distorted_Beta:  $\", average_loss(mc)[3])\n",
    "\n",
    "print(\"-------------------------------------------------------------\")\n",
    "\n",
    "for (value in alpha){\n",
    "  print(paste(\"Normal VAR AT \", 100*(1-value) , \"%:  \",  value_at_risk(mc, value)[1]))\n",
    "  print(paste(\"Normal ES AT \", 100*(1-value), \"%:  \",  expected_shortfall(mc, value)[1]))\n",
    "  print(\"-------------------------------------------------------------\")\n",
    "  print(paste(\"Distorted Gaussian VAR AT \", 100*(1-value) , \"%:  \",  value_at_risk(mc, value)[2]))\n",
    "  print(paste(\"Distorted Gaussian ES AT \", 100*(1-value), \"%:  \",  expected_shortfall(mc, value)[2]))\n",
    "  print(\"-------------------------------------------------------------\") \n",
    "  print(paste(\"Distorted Beta VAR AT \", 100*(1-value) , \"%:  \",  value_at_risk(mc, value)[3]))\n",
    "  print(paste(\"Distorted Beta ES AT \", 100*(1-value), \"%:  \",  expected_shortfall(mc, value)[3]))\n",
    "  print(\"-------------------------------------------------------------\")\n",
    "}\n",
    "\n",
    "print(paste(\"Default Probability: \", PD))\n",
    "paste(\"Distorted Gaussian Default Probability: \", gaussian_default_prob(mu, sigma, PD, rho2))\n",
    "paste(\"Distorted Beta Default Probability: \", beta_default_prob(a, b, PD, rho2))\n",
    "\n",
    "paste(\"Default Correlation Gaussian: \", gaussian_default_corr(mu,sigma,PD,rho2))\n",
    "paste(\"Default Correlation Beta: \",beta_default_corr(a,b,PD,rho2))\n",
    "\n",
    "paste(\"Latent Correlation Gaussian: \", find_rho_gaussian(0.05, mu, sigma, PD))\n",
    "paste(\"Latent Correlation Beta: \", find_rho_beta(0.05, a, b, PD))\n",
    "\n",
    "paste(\"Distorted Latent Correlation Gaussian: \", distorted_LC(rho2, sigma))\n",
    "paste(\"Distorted Latent Correlation Beta: \", distorted_LC(rho2, beta_variance(a,b,find_rho_beta(0.05, a, b, PD))))\n"
   ]
  },
  {
   "cell_type": "code",
   "execution_count": 37,
   "id": "8c7d7b3f-32e4-4f09-8171-acf7e866d04a",
   "metadata": {},
   "outputs": [
    {
     "data": {
      "text/html": [
       "<style>\n",
       ".list-inline {list-style: none; margin:0; padding: 0}\n",
       ".list-inline>li {display: inline-block}\n",
       ".list-inline>li:not(:last-child)::after {content: \"\\00b7\"; padding: 0 .5ex}\n",
       "</style>\n",
       "<ol class=list-inline><li>10.0060466666667</li><li>11.5575666666667</li><li>11.9273733333333</li></ol>\n"
      ],
      "text/latex": [
       "\\begin{enumerate*}\n",
       "\\item 10.0060466666667\n",
       "\\item 11.5575666666667\n",
       "\\item 11.9273733333333\n",
       "\\end{enumerate*}\n"
      ],
      "text/markdown": [
       "1. 10.0060466666667\n",
       "2. 11.5575666666667\n",
       "3. 11.9273733333333\n",
       "\n",
       "\n"
      ],
      "text/plain": [
       "[1] 10.00605 11.55757 11.92737"
      ]
     },
     "metadata": {},
     "output_type": "display_data"
    },
    {
     "data": {
      "text/html": [
       "<table class=\"dataframe\">\n",
       "<caption>A matrix: 7 × 3 of type dbl</caption>\n",
       "<tbody>\n",
       "\t<tr><td> 50.00000</td><td> 57.33333</td><td> 60.00000</td></tr>\n",
       "\t<tr><td> 69.33333</td><td> 74.00000</td><td> 79.33333</td></tr>\n",
       "\t<tr><td>110.00000</td><td>121.66667</td><td>128.66667</td></tr>\n",
       "\t<tr><td>146.00000</td><td>160.33333</td><td>162.33333</td></tr>\n",
       "\t<tr><td>234.66667</td><td>255.00000</td><td>258.33333</td></tr>\n",
       "\t<tr><td>311.66667</td><td>333.66667</td><td>337.66667</td></tr>\n",
       "\t<tr><td>379.33333</td><td>403.00000</td><td>408.66667</td></tr>\n",
       "</tbody>\n",
       "</table>\n"
      ],
      "text/latex": [
       "A matrix: 7 × 3 of type dbl\n",
       "\\begin{tabular}{lll}\n",
       "\t  50.00000 &  57.33333 &  60.00000\\\\\n",
       "\t  69.33333 &  74.00000 &  79.33333\\\\\n",
       "\t 110.00000 & 121.66667 & 128.66667\\\\\n",
       "\t 146.00000 & 160.33333 & 162.33333\\\\\n",
       "\t 234.66667 & 255.00000 & 258.33333\\\\\n",
       "\t 311.66667 & 333.66667 & 337.66667\\\\\n",
       "\t 379.33333 & 403.00000 & 408.66667\\\\\n",
       "\\end{tabular}\n"
      ],
      "text/markdown": [
       "\n",
       "A matrix: 7 × 3 of type dbl\n",
       "\n",
       "|  50.00000 |  57.33333 |  60.00000 |\n",
       "|  69.33333 |  74.00000 |  79.33333 |\n",
       "| 110.00000 | 121.66667 | 128.66667 |\n",
       "| 146.00000 | 160.33333 | 162.33333 |\n",
       "| 234.66667 | 255.00000 | 258.33333 |\n",
       "| 311.66667 | 333.66667 | 337.66667 |\n",
       "| 379.33333 | 403.00000 | 408.66667 |\n",
       "\n"
      ],
      "text/plain": [
       "     [,1]      [,2]      [,3]     \n",
       "[1,]  50.00000  57.33333  60.00000\n",
       "[2,]  69.33333  74.00000  79.33333\n",
       "[3,] 110.00000 121.66667 128.66667\n",
       "[4,] 146.00000 160.33333 162.33333\n",
       "[5,] 234.66667 255.00000 258.33333\n",
       "[6,] 311.66667 333.66667 337.66667\n",
       "[7,] 379.33333 403.00000 408.66667"
      ]
     },
     "metadata": {},
     "output_type": "display_data"
    },
    {
     "data": {
      "text/html": [
       "<table class=\"dataframe\">\n",
       "<caption>A matrix: 7 × 3 of type dbl</caption>\n",
       "<tbody>\n",
       "\t<tr><td> 88.92082</td><td> 99.29481</td><td>101.4773</td></tr>\n",
       "\t<tr><td>110.73220</td><td>122.68411</td><td>125.3370</td></tr>\n",
       "\t<tr><td>163.66134</td><td>179.43157</td><td>182.9724</td></tr>\n",
       "\t<tr><td>201.34930</td><td>219.14172</td><td>223.1969</td></tr>\n",
       "\t<tr><td>297.25083</td><td>319.47195</td><td>324.1815</td></tr>\n",
       "\t<tr><td>372.05376</td><td>396.26882</td><td>401.1398</td></tr>\n",
       "\t<tr><td>433.33333</td><td>458.72727</td><td>463.8182</td></tr>\n",
       "</tbody>\n",
       "</table>\n"
      ],
      "text/latex": [
       "A matrix: 7 × 3 of type dbl\n",
       "\\begin{tabular}{lll}\n",
       "\t  88.92082 &  99.29481 & 101.4773\\\\\n",
       "\t 110.73220 & 122.68411 & 125.3370\\\\\n",
       "\t 163.66134 & 179.43157 & 182.9724\\\\\n",
       "\t 201.34930 & 219.14172 & 223.1969\\\\\n",
       "\t 297.25083 & 319.47195 & 324.1815\\\\\n",
       "\t 372.05376 & 396.26882 & 401.1398\\\\\n",
       "\t 433.33333 & 458.72727 & 463.8182\\\\\n",
       "\\end{tabular}\n"
      ],
      "text/markdown": [
       "\n",
       "A matrix: 7 × 3 of type dbl\n",
       "\n",
       "|  88.92082 |  99.29481 | 101.4773 |\n",
       "| 110.73220 | 122.68411 | 125.3370 |\n",
       "| 163.66134 | 179.43157 | 182.9724 |\n",
       "| 201.34930 | 219.14172 | 223.1969 |\n",
       "| 297.25083 | 319.47195 | 324.1815 |\n",
       "| 372.05376 | 396.26882 | 401.1398 |\n",
       "| 433.33333 | 458.72727 | 463.8182 |\n",
       "\n"
      ],
      "text/plain": [
       "     [,1]      [,2]      [,3]    \n",
       "[1,]  88.92082  99.29481 101.4773\n",
       "[2,] 110.73220 122.68411 125.3370\n",
       "[3,] 163.66134 179.43157 182.9724\n",
       "[4,] 201.34930 219.14172 223.1969\n",
       "[5,] 297.25083 319.47195 324.1815\n",
       "[6,] 372.05376 396.26882 401.1398\n",
       "[7,] 433.33333 458.72727 463.8182"
      ]
     },
     "metadata": {},
     "output_type": "display_data"
    }
   ],
   "source": [
    "# Example usage\n",
    "results <- confidence_intervals(c, MC, EAD, RR, n, rho, PD, mu, sigma, a, b, alpha)\n",
    "\n",
    "# Extracting specific results for further analysis\n",
    "avg_ci <- results$ci_avg\n",
    "var_cis <- results$ci_VaR\n",
    "es_cis <- results$ci_ES\n",
    "\n",
    "avg_ci\n",
    "var_cis/c\n",
    "es_cis/c\n"
   ]
  },
  {
   "cell_type": "code",
   "execution_count": 1,
   "id": "3fce2229-f27b-48ec-a62c-ae2e09753915",
   "metadata": {},
   "outputs": [
    {
     "ename": "ERROR",
     "evalue": "Error in eval(expr, envir, enclos): object 'results' not found\n",
     "output_type": "error",
     "traceback": [
      "Error in eval(expr, envir, enclos): object 'results' not found\nTraceback:\n"
     ]
    }
   ],
   "source": [
    "# Example usage\n",
    "#results <- confidence_intervals(c, MC, EAD, RR, n, rho1, PD, mu, sigma, a, b, alpha)\n",
    "\n",
    "# Extracting specific results for further analysis\n",
    "avg_ci <- results$ci_avg\n",
    "var_cis <- results$ci_VaR\n",
    "es_cis <- results$ci_ES\n",
    "\n",
    "avg_ci\n",
    "var_cis/c\n",
    "es_cis/c"
   ]
  }
 ],
 "metadata": {
  "kernelspec": {
   "display_name": "R",
   "language": "R",
   "name": "ir"
  },
  "language_info": {
   "codemirror_mode": "r",
   "file_extension": ".r",
   "mimetype": "text/x-r-source",
   "name": "R",
   "pygments_lexer": "r",
   "version": "4.3.1"
  }
 },
 "nbformat": 4,
 "nbformat_minor": 5
}
